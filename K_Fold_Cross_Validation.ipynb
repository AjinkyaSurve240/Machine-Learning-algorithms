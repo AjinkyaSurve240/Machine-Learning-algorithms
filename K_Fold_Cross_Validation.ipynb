{
  "nbformat": 4,
  "nbformat_minor": 0,
  "metadata": {
    "kernelspec": {
      "display_name": "Python 3",
      "language": "python",
      "name": "python3"
    },
    "language_info": {
      "codemirror_mode": {
        "name": "ipython",
        "version": 3
      },
      "file_extension": ".py",
      "mimetype": "text/x-python",
      "name": "python",
      "nbconvert_exporter": "python",
      "pygments_lexer": "ipython3",
      "version": "3.5.2"
    },
    "colab": {
      "name": "K-Fold Cross Validation.ipynb",
      "provenance": []
    }
  },
  "cells": [
    {
      "cell_type": "markdown",
      "metadata": {
        "deletable": true,
        "editable": true,
        "id": "IV933beR-x_n"
      },
      "source": [
        "# K-Fold Cross Validation\n",
        "K-Fold cross validation is one of the most popular validation models in use to **evaluate the performace** of the Machine Learning model. It allows to have unbiased evaluation of the model since each item in the dataset have an chance to be part of both train and test set. <br> Accuracy is calculated for each set of train and test pair, afterwards the **average** of all such combiantions are taken as the **accuracy** of the model."
      ]
    },
    {
      "cell_type": "markdown",
      "metadata": {
        "deletable": true,
        "editable": true,
        "id": "2F5rRBjV-x_q"
      },
      "source": [
        "### Aim\n",
        "\n",
        "First, a model will be created with pre defined training and test dataset.\n",
        "Afterwards, A cross validation will be carried out to check the accuracy of the same.\n",
        "\n",
        "### Data \n",
        "\n",
        "The data represents the body measurements of boys of a class in order to create a model to predict the hobbies of the male students. <br>\n",
        "The measurement used are **Height, Weight, Chest, Bicepts**. <br>\n",
        "The Target sports are **Cricket, Football and Basketball**. <br>\n",
        "\n",
        "**Note** : The data used is created using a excel sheet."
      ]
    },
    {
      "cell_type": "markdown",
      "metadata": {
        "deletable": true,
        "editable": true,
        "id": "do7zT0xe-x_r"
      },
      "source": [
        "### Libraries Used"
      ]
    },
    {
      "cell_type": "code",
      "metadata": {
        "deletable": true,
        "editable": true,
        "id": "7Sfvc-Z_-x_s"
      },
      "source": [
        "import numpy as np\n",
        "import pandas as pd\n",
        "from sklearn import model_selection \n",
        "from sklearn import svm"
      ],
      "execution_count": null,
      "outputs": []
    },
    {
      "cell_type": "markdown",
      "metadata": {
        "deletable": true,
        "editable": true,
        "id": "003LAQ26-x_s"
      },
      "source": [
        "### Loading the data "
      ]
    },
    {
      "cell_type": "code",
      "metadata": {
        "deletable": true,
        "editable": true,
        "id": "aiu73R0I-x_t",
        "outputId": "133a4c40-18ef-4caf-b3fa-df550ef3d0c3"
      },
      "source": [
        "### Data saved in the same folder\n",
        "df = pd.read_csv(\"Data/Players.csv\")\n",
        "df.columns\n",
        "df.head()"
      ],
      "execution_count": null,
      "outputs": [
        {
          "output_type": "execute_result",
          "data": {
            "text/html": [
              "<div>\n",
              "<style>\n",
              "    .dataframe thead tr:only-child th {\n",
              "        text-align: right;\n",
              "    }\n",
              "\n",
              "    .dataframe thead th {\n",
              "        text-align: left;\n",
              "    }\n",
              "\n",
              "    .dataframe tbody tr th {\n",
              "        vertical-align: top;\n",
              "    }\n",
              "</style>\n",
              "<table border=\"1\" class=\"dataframe\">\n",
              "  <thead>\n",
              "    <tr style=\"text-align: right;\">\n",
              "      <th></th>\n",
              "      <th>Height</th>\n",
              "      <th>Weight</th>\n",
              "      <th>Chest</th>\n",
              "      <th>Biceps</th>\n",
              "      <th>Trait</th>\n",
              "    </tr>\n",
              "  </thead>\n",
              "  <tbody>\n",
              "    <tr>\n",
              "      <th>0</th>\n",
              "      <td>170</td>\n",
              "      <td>60</td>\n",
              "      <td>50</td>\n",
              "      <td>18</td>\n",
              "      <td>Cricket</td>\n",
              "    </tr>\n",
              "    <tr>\n",
              "      <th>1</th>\n",
              "      <td>155</td>\n",
              "      <td>69</td>\n",
              "      <td>52</td>\n",
              "      <td>21</td>\n",
              "      <td>Cricket</td>\n",
              "    </tr>\n",
              "    <tr>\n",
              "      <th>2</th>\n",
              "      <td>168</td>\n",
              "      <td>62</td>\n",
              "      <td>53</td>\n",
              "      <td>19</td>\n",
              "      <td>Cricket</td>\n",
              "    </tr>\n",
              "    <tr>\n",
              "      <th>3</th>\n",
              "      <td>165</td>\n",
              "      <td>69</td>\n",
              "      <td>47</td>\n",
              "      <td>20</td>\n",
              "      <td>Cricket</td>\n",
              "    </tr>\n",
              "    <tr>\n",
              "      <th>4</th>\n",
              "      <td>157</td>\n",
              "      <td>68</td>\n",
              "      <td>50</td>\n",
              "      <td>20</td>\n",
              "      <td>Cricket</td>\n",
              "    </tr>\n",
              "  </tbody>\n",
              "</table>\n",
              "</div>"
            ],
            "text/plain": [
              "   Height  Weight  Chest  Biceps    Trait\n",
              "0     170      60     50      18  Cricket\n",
              "1     155      69     52      21  Cricket\n",
              "2     168      62     53      19  Cricket\n",
              "3     165      69     47      20  Cricket\n",
              "4     157      68     50      20  Cricket"
            ]
          },
          "metadata": {
            "tags": []
          },
          "execution_count": 2
        }
      ]
    },
    {
      "cell_type": "markdown",
      "metadata": {
        "deletable": true,
        "editable": true,
        "id": "F6Wx_WZq-x_u"
      },
      "source": [
        "### Mapping of the Target data and Extracting the features\n"
      ]
    },
    {
      "cell_type": "code",
      "metadata": {
        "collapsed": true,
        "deletable": true,
        "editable": true,
        "id": "y_CZ0btr-x_u"
      },
      "source": [
        "df = df.replace({'Cricket': 1, 'Football': 2, 'Basketball': 3})\n",
        "\n",
        "features = df.drop('Trait', axis=1).as_matrix()\n",
        "target = np.squeeze(df.filter(['Trait'], axis=1).as_matrix())"
      ],
      "execution_count": null,
      "outputs": []
    },
    {
      "cell_type": "markdown",
      "metadata": {
        "deletable": true,
        "editable": true,
        "id": "Wz0NGxvf-x_v"
      },
      "source": [
        "### Dataset Preparartion for Training and Testing without Cross validation \n",
        "\n",
        "The Data set we have is split into two set , **60%** for **training**vand rest **40%** for **testing**.\n",
        "model_selection object from skilearn is used for the same."
      ]
    },
    {
      "cell_type": "code",
      "metadata": {
        "collapsed": true,
        "deletable": true,
        "editable": true,
        "id": "gb5eXg1B-x_v"
      },
      "source": [
        "X_train, X_test, y_train, y_test = model_selection.train_test_split(features, target, test_size=0.4, random_state=1)"
      ],
      "execution_count": null,
      "outputs": []
    },
    {
      "cell_type": "markdown",
      "metadata": {
        "deletable": true,
        "editable": true,
        "id": "mjH737ap-x_w"
      },
      "source": [
        "###  Training on Support Vector Classification Model"
      ]
    },
    {
      "cell_type": "code",
      "metadata": {
        "collapsed": true,
        "deletable": true,
        "editable": true,
        "id": "Zn-Iw15V-x_w"
      },
      "source": [
        "### A model based on SVC is created with the pre defiend training set\n",
        "clf = svm.SVC(kernel='linear', C=1).fit(X_train, y_train)"
      ],
      "execution_count": null,
      "outputs": []
    },
    {
      "cell_type": "markdown",
      "metadata": {
        "deletable": true,
        "editable": true,
        "id": "rIIpTwON-x_x"
      },
      "source": [
        "### Checking the  accuracy of the model with Normal Test data"
      ]
    },
    {
      "cell_type": "code",
      "metadata": {
        "deletable": true,
        "editable": true,
        "id": "2Doc3v0c-x_x",
        "outputId": "797fbe22-a005-4030-9bd0-8de09d39f11a"
      },
      "source": [
        "### Now measure its performance with the test data\n",
        "clf.score(X_test, y_test)   "
      ],
      "execution_count": null,
      "outputs": [
        {
          "output_type": "execute_result",
          "data": {
            "text/plain": [
              "0.9152542372881356"
            ]
          },
          "metadata": {
            "tags": []
          },
          "execution_count": 6
        }
      ]
    },
    {
      "cell_type": "markdown",
      "metadata": {
        "deletable": true,
        "editable": true,
        "id": "wrJtre-z-x_y"
      },
      "source": [
        "The accuracy of the model with current test data is **91.25**."
      ]
    },
    {
      "cell_type": "markdown",
      "metadata": {
        "deletable": true,
        "editable": true,
        "id": "TfpHjDJS-x_y"
      },
      "source": [
        "### Crosss Validation of the model\n",
        "\n",
        "Cross-validation is a resampling procedure used to evaluate machine learning models on a limited data sample. Here a value of **5** is assigned for **K**. Hence a array of five accuracy values is returned as the cross validation scrore"
      ]
    },
    {
      "cell_type": "code",
      "metadata": {
        "deletable": true,
        "editable": true,
        "id": "NGCxbRmj-x_y",
        "outputId": "1db2c1d9-1835-486e-d130-aaaa49b0072f"
      },
      "source": [
        "### Calculating the r2 score for the model\n",
        "scores = model_selection.cross_val_score(clf, features, target, cv=5)\n",
        "\n",
        "### To find the accuracy for each fold:\n",
        "print(scores)"
      ],
      "execution_count": null,
      "outputs": [
        {
          "output_type": "stream",
          "text": [
            "[ 0.93333333  1.          0.93333333  0.86666667  1.        ]\n"
          ],
          "name": "stdout"
        }
      ]
    },
    {
      "cell_type": "markdown",
      "metadata": {
        "deletable": true,
        "editable": true,
        "id": "veuh6juz-x_z"
      },
      "source": [
        "### Cross Validation Score / Mean Score "
      ]
    },
    {
      "cell_type": "code",
      "metadata": {
        "deletable": true,
        "editable": true,
        "id": "RUi5_R9i-x_z",
        "outputId": "46613f57-0221-4a42-f3d3-dcdecdbeccfc"
      },
      "source": [
        "### And the mean accuracy of all 5 folds:\n",
        "print(scores.mean())"
      ],
      "execution_count": null,
      "outputs": [
        {
          "output_type": "stream",
          "text": [
            "0.946666666667\n"
          ],
          "name": "stdout"
        }
      ]
    },
    {
      "cell_type": "markdown",
      "metadata": {
        "deletable": true,
        "editable": true,
        "id": "1EWSkpWB-x_z"
      },
      "source": [
        "### Observation\n",
        "The value is **better** than the fixed dataset ,  but this is **not guaranteed** for every usecase.\n",
        "\n",
        "### Conclusion\n",
        "The accuracy of the model can be evaluated better if the cross validation is used rather than fixed train and test set. <br>\n",
        "When we tested our model with fixed data set the accuraacy given was **91.25**. <br>\n",
        "But when we tested model with Cross Validation, the mean accuracy has **improved to 94.66%**"
      ]
    },
    {
      "cell_type": "code",
      "metadata": {
        "collapsed": true,
        "deletable": true,
        "editable": true,
        "id": "ZG7PkDiT-x_0"
      },
      "source": [
        ""
      ],
      "execution_count": null,
      "outputs": []
    }
  ]
}